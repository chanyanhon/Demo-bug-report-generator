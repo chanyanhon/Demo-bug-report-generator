{
 "cells": [
  {
   "cell_type": "markdown",
   "id": "4345a834-f631-4ccc-8283-acc62cdbf07d",
   "metadata": {},
   "source": [
    "# Introduction\n",
    "\n",
    "This is a general demonstration on how we can aid our users to create bugreport by simply input ONLY 4 parameters, i.e. 2 pairs of request-response for normal-browsing, and that of successfully hacked.\n",
    "\n",
    "The LLM can compare the difference and find out the hacking logic behind, i.e. how the hacker successfully exploit the vulnerability, thus returning details of the reports including `summary`, `step to reproduce` and `recommendation to fix this vulnerability`\n",
    "\n",
    "## Impact\n",
    "- With this tool, by interview, our user said they have saved 1 hour for producing one bugreport and agree that they are more attached to our platform because of having this helping tool.\n",
    "\n",
    "- They also said that the tool helped them to write a better report other than saving time:\n",
    "    - More Structural (Best practice format: summary, step of reproduce, recommendation), especially most of the users usually write too detailed or too brief for step of reproduce\n",
    "    - Superior knowledge (Most of the time, inexperienced hacker cannot give recommendation)\n",
    "    - More professional (No grammatical mistake)\n",
    "    - Generated in 2 seconds instead of 60 minutes\n",
    "\n",
    "## Technical details\n",
    "- We will apply `gemini-pro` model from Google as most of our input exceed `gpt-3.5-turbo` maximum token limit (4,096 tokens), while Gemini-Pro can ingest 32,000 tokens for input.\n",
    "\n",
    "- For generating a prompt template of `generating bug report in your custom style` with input variables of parameters (2 paris of request-response in this case), please read the steps from my Medium article \n",
    "\n",
    "`Generating a report in a tailored format using Reverse Prompt Engineering` : \n",
    "https://medium.com/@miltonchan_85581/generating-a-report-in-a-tailored-format-using-reverse-prompt-engineering-16d1944a6413"
   ]
  },
  {
   "cell_type": "code",
   "execution_count": 1,
   "id": "b94bfca3-ab5f-4e50-ba46-7ef8db78c9b8",
   "metadata": {
    "tags": []
   },
   "outputs": [],
   "source": [
    "!pip install -q google-generativeai==0.3.2\n",
    "!pip install -q python-dotenv"
   ]
  },
  {
   "cell_type": "code",
   "execution_count": 2,
   "id": "726ded18-7811-43d9-9e12-75fc4b69cc29",
   "metadata": {
    "tags": []
   },
   "outputs": [],
   "source": [
    "import pandas as pd\n",
    "from tqdm import tqdm\n",
    "\n",
    "from dotenv import load_dotenv, find_dotenv\n",
    "# Get Gemini API key\n",
    "try:\n",
    "    _ = load_dotenv(find_dotenv()) # read local .env file\n",
    "    GOOGLE_API_KEY = os.environ['GEMINI_API_KEY']\n",
    "except:\n",
    "    GOOGLE_API_KEY = 'your Gemini key'\n",
    "\n",
    "import google.generativeai as genai\n",
    "genai.configure(api_key=GOOGLE_API_KEY)\n",
    "model = genai.GenerativeModel('gemini-pro')\n"
   ]
  },
  {
   "cell_type": "code",
   "execution_count": 3,
   "id": "c9ac7a85-0095-4c77-885b-7c770b6a0fde",
   "metadata": {
    "tags": []
   },
   "outputs": [],
   "source": [
    "#! /usr/bin/env python\n",
    "\n",
    "def bugreport_prompt_V1(baseline_Request, \n",
    "                        baseline_Response,\n",
    "                        hacker_Request, \n",
    "                        hacker_Response): \n",
    "    '''\n",
    "    docstring\n",
    "    '''\n",
    "    instruction_prompt = f\"\"\"\n",
    "Generate a detailed bug report based on the provided baseline log and hacker logs. The focus is on xxxxxx:\n",
    "\n",
    "[Confidential prompt which cannot be provided]\n",
    "\n",
    "### Baseline Log:\n",
    "Request:\n",
    "'''\n",
    "{baseline_Request}\n",
    "'''\n",
    "Response:\n",
    "'''\n",
    "{baseline_Response}\n",
    "'''\n",
    "\n",
    "### Hacker Log:\n",
    "Request:\n",
    "'''\n",
    "{hacker_Request}\n",
    "'''\n",
    "Response:\n",
    "'''\n",
    "{hacker_Response}\n",
    "'''\n",
    "    \"\"\"\n",
    "    return instruction_prompt\n"
   ]
  },
  {
   "cell_type": "code",
   "execution_count": 4,
   "id": "a106678f-4e7b-451a-a938-517ebad3b3c5",
   "metadata": {
    "tags": []
   },
   "outputs": [],
   "source": [
    "df = pd.read_csv('data/demo_data.csv')"
   ]
  },
  {
   "cell_type": "code",
   "execution_count": 5,
   "id": "7ceb7252-8de0-4060-a184-5813f7c610af",
   "metadata": {
    "tags": []
   },
   "outputs": [
    {
     "data": {
      "text/html": [
       "<div>\n",
       "<style scoped>\n",
       "    .dataframe tbody tr th:only-of-type {\n",
       "        vertical-align: middle;\n",
       "    }\n",
       "\n",
       "    .dataframe tbody tr th {\n",
       "        vertical-align: top;\n",
       "    }\n",
       "\n",
       "    .dataframe thead th {\n",
       "        text-align: right;\n",
       "    }\n",
       "</style>\n",
       "<table border=\"1\" class=\"dataframe\">\n",
       "  <thead>\n",
       "    <tr style=\"text-align: right;\">\n",
       "      <th></th>\n",
       "      <th>example</th>\n",
       "      <th>request_baseline</th>\n",
       "      <th>response_baseline</th>\n",
       "      <th>request_hacking</th>\n",
       "      <th>response_hacking</th>\n",
       "    </tr>\n",
       "  </thead>\n",
       "  <tbody>\n",
       "    <tr>\n",
       "      <th>0</th>\n",
       "      <td>1</td>\n",
       "      <td>POST /api/BasketItems/\\ncookie:_ga=GA1.1.16973...</td>\n",
       "      <td>HTTP/2.0 200 OK\\ndate:Sat, 30 Dec 2023 14:41:2...</td>\n",
       "      <td>POST /api/BasketItems/\\ncookie:_ga=GA1.1.16973...</td>\n",
       "      <td>HTTP/2.0 200 OK\\ndate:Tue, 02 Jan 2024 11:08:3...</td>\n",
       "    </tr>\n",
       "    <tr>\n",
       "      <th>1</th>\n",
       "      <td>2</td>\n",
       "      <td>GET /rest/user/change-password?current=qqqqq&amp;n...</td>\n",
       "      <td>HTTP/2.0 401 Unauthorized\\ndate:Mon, 08 Jan 20...</td>\n",
       "      <td>GET /rest/user/change-password?new=qqqqq&amp;repea...</td>\n",
       "      <td>HTTP/2.0 200 OK\\ndate:Mon, 08 Jan 2024 07:21:4...</td>\n",
       "    </tr>\n",
       "    <tr>\n",
       "      <th>2</th>\n",
       "      <td>3</td>\n",
       "      <td>POST /rest/user/login\\ncookie:_ga=GA1.1.169736...</td>\n",
       "      <td>HTTP/2.0 401 Unauthorized\\ndate:Fri, 15 Dec 20...</td>\n",
       "      <td>POST /rest/user/login\\ncookie:_ga=GA1.1.169736...</td>\n",
       "      <td>HTTP/2.0 200 OK\\ndate:Fri, 15 Dec 2023 01:35:0...</td>\n",
       "    </tr>\n",
       "    <tr>\n",
       "      <th>3</th>\n",
       "      <td>4</td>\n",
       "      <td>GET /rest/user/whoami\\ncookie:_ga=GA1.1.169736...</td>\n",
       "      <td>HTTP/2.0 200 OK\\ndate:Thu, 14 Dec 2023 14:27:0...</td>\n",
       "      <td>GET /rest/user/whoami?callback=admin\\ncookie:l...</td>\n",
       "      <td>HTTP/2.0 200 OK\\ndate:Tue, 16 Jan 2024 06:08:3...</td>\n",
       "    </tr>\n",
       "  </tbody>\n",
       "</table>\n",
       "</div>"
      ],
      "text/plain": [
       "   example                                   request_baseline  \\\n",
       "0        1  POST /api/BasketItems/\\ncookie:_ga=GA1.1.16973...   \n",
       "1        2  GET /rest/user/change-password?current=qqqqq&n...   \n",
       "2        3  POST /rest/user/login\\ncookie:_ga=GA1.1.169736...   \n",
       "3        4  GET /rest/user/whoami\\ncookie:_ga=GA1.1.169736...   \n",
       "\n",
       "                                   response_baseline  \\\n",
       "0  HTTP/2.0 200 OK\\ndate:Sat, 30 Dec 2023 14:41:2...   \n",
       "1  HTTP/2.0 401 Unauthorized\\ndate:Mon, 08 Jan 20...   \n",
       "2  HTTP/2.0 401 Unauthorized\\ndate:Fri, 15 Dec 20...   \n",
       "3  HTTP/2.0 200 OK\\ndate:Thu, 14 Dec 2023 14:27:0...   \n",
       "\n",
       "                                     request_hacking  \\\n",
       "0  POST /api/BasketItems/\\ncookie:_ga=GA1.1.16973...   \n",
       "1  GET /rest/user/change-password?new=qqqqq&repea...   \n",
       "2  POST /rest/user/login\\ncookie:_ga=GA1.1.169736...   \n",
       "3  GET /rest/user/whoami?callback=admin\\ncookie:l...   \n",
       "\n",
       "                                    response_hacking  \n",
       "0  HTTP/2.0 200 OK\\ndate:Tue, 02 Jan 2024 11:08:3...  \n",
       "1  HTTP/2.0 200 OK\\ndate:Mon, 08 Jan 2024 07:21:4...  \n",
       "2  HTTP/2.0 200 OK\\ndate:Fri, 15 Dec 2023 01:35:0...  \n",
       "3  HTTP/2.0 200 OK\\ndate:Tue, 16 Jan 2024 06:08:3...  "
      ]
     },
     "execution_count": 5,
     "metadata": {},
     "output_type": "execute_result"
    }
   ],
   "source": [
    "df"
   ]
  },
  {
   "cell_type": "markdown",
   "id": "e3b7616b-f992-4e60-a74a-2a6076d65aaa",
   "metadata": {},
   "source": [
    "### As the content is about hacking and may violate the safety principal of using LLM, we have to customize the safety setting of LLM, else empty content will be output"
   ]
  },
  {
   "cell_type": "code",
   "execution_count": 6,
   "id": "c5dc503e-76c7-43ca-aaa9-ae7b9424a2d6",
   "metadata": {
    "tags": []
   },
   "outputs": [],
   "source": [
    "safety_settings = [\n",
    "    {\n",
    "        \"category\": \"HARM_CATEGORY_DANGEROUS\",\n",
    "        \"threshold\": \"BLOCK_NONE\",\n",
    "    },\n",
    "    {\n",
    "        \"category\": \"HARM_CATEGORY_HARASSMENT\",\n",
    "        \"threshold\": \"BLOCK_NONE\",\n",
    "    },\n",
    "    {\n",
    "        \"category\": \"HARM_CATEGORY_HATE_SPEECH\",\n",
    "        \"threshold\": \"BLOCK_NONE\",\n",
    "    },\n",
    "    {\n",
    "        \"category\": \"HARM_CATEGORY_SEXUALLY_EXPLICIT\",\n",
    "        \"threshold\": \"BLOCK_NONE\",\n",
    "    },\n",
    "    {\n",
    "        \"category\": \"HARM_CATEGORY_DANGEROUS_CONTENT\",\n",
    "        \"threshold\": \"BLOCK_NONE\",\n",
    "    },\n",
    "]"
   ]
  },
  {
   "cell_type": "code",
   "execution_count": 7,
   "id": "cf7ad4d1-005c-4da2-b508-11904cbef09d",
   "metadata": {
    "tags": []
   },
   "outputs": [
    {
     "name": "stderr",
     "output_type": "stream",
     "text": [
      "100%|██████████| 4/4 [00:22<00:00,  5.74s/it]\n"
     ]
    }
   ],
   "source": [
    "bugreports = []\n",
    "for index, row in tqdm(df.iterrows(), total=len(df)):\n",
    "    # mask domain for the incoming logs\n",
    "    baseline_Request = row[\"request_baseline\"]\n",
    "    baseline_Response = row[\"response_baseline\"]\n",
    "    hacker_Request = row[\"request_hacking\"]\n",
    "    hacker_Response = row[\"response_hacking\"]\n",
    "\n",
    "    bugreport_prompt = bugreport_prompt_V1(baseline_Request, baseline_Response, hacker_Request, hacker_Response)\n",
    "    response = model.generate_content(bugreport_prompt ,\n",
    "                      generation_config=genai.types.GenerationConfig(temperature=0),\n",
    "                      safety_settings=safety_settings\n",
    "                     )\n",
    "    # str to json ingestion\n",
    "    bugreport = response.text\n",
    "    bugreports.append(bugreport)"
   ]
  },
  {
   "cell_type": "code",
   "execution_count": 8,
   "id": "94317b32-befc-44f7-85be-a6956b8d978c",
   "metadata": {
    "tags": []
   },
   "outputs": [
    {
     "name": "stdout",
     "output_type": "stream",
     "text": [
      "**Summary:**\n",
      "\n",
      "The hacker log demonstrates a successful attack on the `/api/BasketItems/` endpoint, allowing the attacker to add an item to the basket with a negative quantity. This vulnerability could be exploited to manipulate inventory levels and potentially lead to financial losses for the e-commerce platform.\n",
      "\n",
      "**Steps to Reproduce:**\n",
      "\n",
      "1. Send a POST request to the `/api/BasketItems/` endpoint with the following JSON payload:\n",
      "```\n",
      "{\"ProductId\":33,\"BasketId\":\"6\",\"quantity\":-1000}\n",
      "```\n",
      "2. Include the following headers in the request:\n",
      "```\n",
      "Authorization: Bearer <access_token>\n",
      "Content-Type: application/json\n",
      "```\n",
      "3. The response will be a 200 OK status code with a JSON payload indicating the successful addition of the item to the basket.\n",
      "\n",
      "**Recommendation:**\n",
      "\n",
      "To address this vulnerability, the following recommendations are suggested:\n",
      "\n",
      "* Implement input validation to ensure that the quantity field cannot be set to a negative value.\n",
      "* Consider using a range of allowed values for the quantity field to prevent extreme values from being entered.\n",
      "* Enhance error handling to provide a clear and informative error message when an invalid quantity is provided.\n",
      "* Conduct a security audit to identify and address any other potential vulnerabilities in the application.\n"
     ]
    }
   ],
   "source": [
    "print(bugreports[0])"
   ]
  },
  {
   "cell_type": "code",
   "execution_count": 9,
   "id": "231cad61-3a74-485d-bc75-01656d40b9f5",
   "metadata": {
    "tags": []
   },
   "outputs": [
    {
     "name": "stdout",
     "output_type": "stream",
     "text": [
      "**Summary:**\n",
      "\n",
      "The hacker log demonstrates a successful password change attack by exploiting a vulnerability in the password change endpoint. The attacker was able to change the password without providing the current password, allowing them to gain unauthorized access to the user's account. This vulnerability could have severe consequences, such as account takeover, data theft, or financial fraud.\n",
      "\n",
      "**Steps to Reproduce:**\n",
      "\n",
      "1. Send a GET request to the `/rest/user/change-password` endpoint with the `new` and `repeat` parameters set to the desired new password.\n",
      "2. Omit the `current` parameter, which is typically required to verify the user's current password.\n",
      "3. The server will process the request and update the user's password without requiring the current password.\n",
      "\n",
      "**Recommendation:**\n",
      "\n",
      "To address this vulnerability, the following recommendations should be implemented:\n",
      "\n",
      "* **Implement strong input validation:** Ensure that the `current` parameter is always present and matches the user's current password before allowing the password change.\n",
      "* **Use a secure hashing algorithm:** Store passwords using a secure hashing algorithm, such as bcrypt or Argon2, to prevent attackers from easily guessing or brute-forcing passwords.\n",
      "* **Consider using two-factor authentication (2FA):** Implement 2FA to add an extra layer of security to the password change process, requiring users to provide a second form of authentication, such as a code sent to their phone.\n",
      "* **Conduct regular security audits:** Regularly conduct security audits to identify and address any potential vulnerabilities in the application.\n"
     ]
    }
   ],
   "source": [
    "print(bugreports[1])"
   ]
  },
  {
   "cell_type": "code",
   "execution_count": 10,
   "id": "65a6a232-a65d-45b6-abb1-7379aea4e7e6",
   "metadata": {
    "tags": []
   },
   "outputs": [
    {
     "name": "stdout",
     "output_type": "stream",
     "text": [
      "**Summary:**\n",
      "\n",
      "The security issue identified in the hacker logs is an SQL injection vulnerability in the login endpoint. This vulnerability allows an attacker to bypass authentication and gain unauthorized access to the application by injecting malicious SQL queries into the login request.\n",
      "\n",
      "**Steps to Reproduce:**\n",
      "\n",
      "1. Send a POST request to the `/rest/user/login` endpoint with the following JSON payload:\n",
      "\n",
      "```json\n",
      "{\"email\":\"hi' or 1=1 --\",\"password\":\"vvv\"}\n",
      "```\n",
      "\n",
      "2. The server responds with an HTTP 200 OK status code and a JSON response containing an authentication token.\n",
      "\n",
      "3. The attacker can use the authentication token to access protected resources within the application.\n",
      "\n",
      "**Recommendation:**\n",
      "\n",
      "To address this vulnerability, it is recommended to implement proper input validation and sanitization on the server-side to prevent malicious SQL queries from being executed. Additionally, consider using prepared statements or parameterized queries to prevent SQL injection attacks.\n"
     ]
    }
   ],
   "source": [
    "print(bugreports[2])"
   ]
  },
  {
   "cell_type": "code",
   "execution_count": 11,
   "id": "be51ed18-2712-4772-ba41-3ee260c9b450",
   "metadata": {
    "tags": []
   },
   "outputs": [
    {
     "name": "stdout",
     "output_type": "stream",
     "text": [
      "**Summary:**\n",
      "\n",
      "The application is vulnerable to a JSONP (JSON with Padding) attack. The attacker can exploit this vulnerability to execute arbitrary JavaScript code in the victim's browser. This could allow the attacker to steal sensitive information, such as cookies, session tokens, or credit card numbers.\n",
      "\n",
      "**Steps to Reproduce:**\n",
      "\n",
      "1. The attacker sends a request to the application with a `callback` parameter. The value of the `callback` parameter is a function name that the application will call when it responds to the request.\n",
      "2. The application responds to the request with a JSONP response. The JSONP response is a JavaScript function call that includes the data that the application wants to return to the client.\n",
      "3. The victim's browser executes the JavaScript function call. This executes the arbitrary JavaScript code that the attacker included in the `callback` parameter.\n",
      "\n",
      "**Recommendation:**\n",
      "\n",
      "To address this vulnerability, the application should validate the value of the `callback` parameter before calling it. The application should only call the `callback` parameter if it is a valid function name.\n",
      "\n",
      "Additionally, the application should consider using a Content Security Policy (CSP) to restrict the types of JavaScript that can be executed in the victim's browser. A CSP can help to prevent the attacker from executing arbitrary JavaScript code in the victim's browser.\n"
     ]
    }
   ],
   "source": [
    "print(bugreports[3])"
   ]
  },
  {
   "cell_type": "code",
   "execution_count": null,
   "id": "4234d23b-2c9f-425d-a942-716f7933b296",
   "metadata": {},
   "outputs": [],
   "source": []
  }
 ],
 "metadata": {
  "kernelspec": {
   "display_name": "conda_python3",
   "language": "python",
   "name": "conda_python3"
  },
  "language_info": {
   "codemirror_mode": {
    "name": "ipython",
    "version": 3
   },
   "file_extension": ".py",
   "mimetype": "text/x-python",
   "name": "python",
   "nbconvert_exporter": "python",
   "pygments_lexer": "ipython3",
   "version": "3.10.14"
  }
 },
 "nbformat": 4,
 "nbformat_minor": 5
}
